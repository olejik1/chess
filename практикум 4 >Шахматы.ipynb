{
 "cells": [
  {
   "cell_type": "code",
   "execution_count": 3,
   "id": "1507e6a8",
   "metadata": {},
   "outputs": [],
   "source": [
    "import tkinter as tk"
   ]
  },
  {
   "cell_type": "code",
   "execution_count": 20,
   "id": "76f98328",
   "metadata": {},
   "outputs": [],
   "source": [
    "game = tk.Tk()\n",
    "game.title('Шахматы')\n",
    "game.configure(background='white')\n",
    "\n",
    "frame = tk.Frame(height=200,width=200,bg='black')\n",
    "frame.pack()\n",
    "\n",
    "game.mainloop()"
   ]
  },
  {
   "cell_type": "code",
   "execution_count": 18,
   "id": "a031f01a",
   "metadata": {},
   "outputs": [
    {
     "ename": "AttributeError",
     "evalue": "'_tkinter.tkapp' object has no attribute 'width'",
     "output_type": "error",
     "traceback": [
      "\u001b[0;31m---------------------------------------------------------------------------\u001b[0m",
      "\u001b[0;31mAttributeError\u001b[0m                            Traceback (most recent call last)",
      "\u001b[0;32m/tmp/ipykernel_272529/2105765547.py\u001b[0m in \u001b[0;36m<module>\u001b[0;34m\u001b[0m\n\u001b[0;32m----> 1\u001b[0;31m \u001b[0mgame\u001b[0m\u001b[0;34m.\u001b[0m\u001b[0mwidth\u001b[0m\u001b[0;34m(\u001b[0m\u001b[0;34m)\u001b[0m\u001b[0;34m\u001b[0m\u001b[0;34m\u001b[0m\u001b[0m\n\u001b[0m",
      "\u001b[0;32m/usr/lib/python3.8/tkinter/__init__.py\u001b[0m in \u001b[0;36m__getattr__\u001b[0;34m(self, attr)\u001b[0m\n\u001b[1;32m   2352\u001b[0m     \u001b[0;32mdef\u001b[0m \u001b[0m__getattr__\u001b[0m\u001b[0;34m(\u001b[0m\u001b[0mself\u001b[0m\u001b[0;34m,\u001b[0m \u001b[0mattr\u001b[0m\u001b[0;34m)\u001b[0m\u001b[0;34m:\u001b[0m\u001b[0;34m\u001b[0m\u001b[0;34m\u001b[0m\u001b[0m\n\u001b[1;32m   2353\u001b[0m         \u001b[0;34m\"Delegate attribute access to the interpreter object\"\u001b[0m\u001b[0;34m\u001b[0m\u001b[0;34m\u001b[0m\u001b[0m\n\u001b[0;32m-> 2354\u001b[0;31m         \u001b[0;32mreturn\u001b[0m \u001b[0mgetattr\u001b[0m\u001b[0;34m(\u001b[0m\u001b[0mself\u001b[0m\u001b[0;34m.\u001b[0m\u001b[0mtk\u001b[0m\u001b[0;34m,\u001b[0m \u001b[0mattr\u001b[0m\u001b[0;34m)\u001b[0m\u001b[0;34m\u001b[0m\u001b[0;34m\u001b[0m\u001b[0m\n\u001b[0m\u001b[1;32m   2355\u001b[0m \u001b[0;34m\u001b[0m\u001b[0m\n\u001b[1;32m   2356\u001b[0m \u001b[0;31m# Ideally, the classes Pack, Place and Grid disappear, the\u001b[0m\u001b[0;34m\u001b[0m\u001b[0;34m\u001b[0m\u001b[0;34m\u001b[0m\u001b[0m\n",
      "\u001b[0;31mAttributeError\u001b[0m: '_tkinter.tkapp' object has no attribute 'width'"
     ]
    }
   ],
   "source": []
  },
  {
   "cell_type": "code",
   "execution_count": 202,
   "id": "fbd9be4e",
   "metadata": {},
   "outputs": [
    {
     "name": "stdout",
     "output_type": "stream",
     "text": [
      "  A B C D E F G H  \n",
      "8 r n b q k b n r 8\n",
      "7 p p p p p p p p 7\n",
      "6 * * * * * * * * 6\n",
      "5 * * * * * * * * 5\n",
      "4 * * * * * * * * 4\n",
      "3 * * * * * * * * 3\n",
      "2 P P P P P P P P 2\n",
      "1 R N B Q K B N R 1\n",
      "  A B C D E F G H  \n"
     ]
    }
   ],
   "source": [
    "class Board():\n",
    "    def __init__(self):\n",
    "        al = list(' ABCDEFGH ')\n",
    "        gm = [list(f'{i}********{i}') for i in range(1,9)]\n",
    "        bd = [al,*gm,al]\n",
    "        bd[2][1:9] = [Pawn((2,i)) for i in range(1,9)]\n",
    "        bd[7][1:9] = [Pawn((7,i),black=True) for i in range(1,9)]\n",
    "        bd[1][1], bd[1][8] = Rook((1,1)), Rook((1,8))\n",
    "        bd[1][2], bd[1][7] = Knight((1,2)), Knight((1,7))\n",
    "        bd[1][3], bd[1][6] = Bishop((1,3)), Bishop((1,6))\n",
    "        bd[1][4], bd[1][5] = Queen((1,4)), King((1,5))\n",
    "        bd[8][1], bd[8][8] = Rook((8,1),black=True), Rook((8,8),black=True)\n",
    "        bd[8][2], bd[8][7] = Knight((8,2),black=True), Knight((8,7),black=True)\n",
    "        bd[8][3], bd[8][6] = Bishop((8,3),black=True), Bishop((8,6),black=True)\n",
    "        bd[8][4], bd[8][5] = Queen((8,4),black=True), King((8,5),black=True)\n",
    "        self.bd = bd\n",
    "        self.n = 0\n",
    "    \n",
    "    def get_board(self):\n",
    "        return self.bd\n",
    "        \n",
    "    def display_board(self):\n",
    "        for i in range(9,-1,-1):\n",
    "            print(*self.bd[i],sep=' ')\n",
    "            \n",
    "    def get_moves(self):\n",
    "        return self.n\n",
    "\n",
    "Board().display_board()"
   ]
  },
  {
   "cell_type": "code",
   "execution_count": 203,
   "id": "f25f5c50",
   "metadata": {},
   "outputs": [],
   "source": [
    "import string\n",
    "def tfm(pos):\n",
    "    x,y = pos\n",
    "    pos_d = {string.ascii_uppercase[i-1]:i for i in range(1,9)}\n",
    "    return pos_d[x],y\n",
    "def rev_tfm(pos):\n",
    "    x,y = pos\n",
    "    pos_d = {i:string.ascii_uppercase[i-1] for i in range(1,9)}\n",
    "    return pos_d[x],y"
   ]
  },
  {
   "cell_type": "code",
   "execution_count": 304,
   "id": "2e98b879",
   "metadata": {},
   "outputs": [
    {
     "data": {
      "text/plain": [
       "set()"
      ]
     },
     "execution_count": 304,
     "metadata": {},
     "output_type": "execute_result"
    }
   ],
   "source": [
    "def h_moves(bd,pos,rng=8):\n",
    "    x, y = tfm(pos)\n",
    "    bd = bd.get_board()\n",
    "    mvs = set()\n",
    "    for i in range(-rng,rng+1):\n",
    "        if i and 0<x+i<9 and not isinstance(bd[y][x+i],Piece):\n",
    "            mvs.add(rev_tfm((x+i,y)))\n",
    "    return mvs\n",
    "            \n",
    "h_moves(Board(),('D',2),rng=2)"
   ]
  },
  {
   "cell_type": "code",
   "execution_count": 205,
   "id": "48d04f7b",
   "metadata": {},
   "outputs": [
    {
     "data": {
      "text/plain": [
       "{('D', 1), ('D', 3), ('D', 4)}"
      ]
     },
     "execution_count": 205,
     "metadata": {},
     "output_type": "execute_result"
    }
   ],
   "source": [
    "def v_moves(bd,pos,rng=8):\n",
    "    x, y = tfm(pos)\n",
    "    bd = bd.get_board()\n",
    "    mvs = set()\n",
    "    for i in range(-rng,rng+1):\n",
    "        if i and 0<y+i<9 and not isinstance(bd[y+i][x],Piece):\n",
    "            mvs.add(rev_tfm((x,y+i)))\n",
    "    return mvs\n",
    "\n",
    "v_moves(Board(),('D',2),rng=2)"
   ]
  },
  {
   "cell_type": "code",
   "execution_count": 206,
   "id": "3e93505f",
   "metadata": {},
   "outputs": [
    {
     "data": {
      "text/plain": [
       "{('B', 4), ('C', 1), ('C', 3), ('E', 1), ('E', 3), ('F', 4)}"
      ]
     },
     "execution_count": 206,
     "metadata": {},
     "output_type": "execute_result"
    }
   ],
   "source": [
    "def d_moves(bd,pos,rng=8):\n",
    "    x, y = tfm(pos)\n",
    "    bd = bd.get_board()\n",
    "    mvs = set()\n",
    "    for i in range(-rng,rng+1):\n",
    "        if i and 0<x+i<9 and 0<y+i<9 and not isinstance(bd[y+i][x+i],Piece):\n",
    "            mvs.add(rev_tfm((x+i,y+i)))\n",
    "        if i and 0<x-i<9 and 0<y+i<9 and not isinstance(bd[y+i][x-i],Piece):\n",
    "            mvs.add(rev_tfm((x-i,y+i)))\n",
    "    return mvs\n",
    "\n",
    "d_moves(Board(),('D',2),rng=2)"
   ]
  },
  {
   "cell_type": "code",
   "execution_count": 207,
   "id": "a7d21cf8",
   "metadata": {},
   "outputs": [
    {
     "data": {
      "text/plain": [
       "{('B', 1), ('B', 3), ('C', 4), ('E', 4), ('F', 1), ('F', 3)}"
      ]
     },
     "execution_count": 207,
     "metadata": {},
     "output_type": "execute_result"
    }
   ],
   "source": [
    "def k_moves(bd,pos):\n",
    "    x, y = tfm(pos)\n",
    "    bd = bd.get_board()\n",
    "    mvs = set()\n",
    "    for i in [-1,1,-2,2]:\n",
    "        for j in [-1,1,-2,2]:\n",
    "            if abs(i)!=abs(j) and 0<x+i<9 and 0<y+j<9 and not isinstance(bd[y+j][x+i],Piece):\n",
    "                    mvs.add(rev_tfm((x+i,y+j)))\n",
    "    return mvs\n",
    "\n",
    "k_moves(Board(),('D',2))"
   ]
  },
  {
   "cell_type": "code",
   "execution_count": 208,
   "id": "e3bea48c",
   "metadata": {},
   "outputs": [
    {
     "data": {
      "text/plain": [
       "('A', 2)"
      ]
     },
     "execution_count": 208,
     "metadata": {},
     "output_type": "execute_result"
    }
   ],
   "source": [
    "class Piece():\n",
    "    def __init__(self,pos,black=False):\n",
    "        self.pos = rev_tfm(pos)\n",
    "        self.black = black\n",
    "    def get_pos(self):\n",
    "        return self.pos\n",
    "\n",
    "Piece((1,2),black=True).get_pos()"
   ]
  },
  {
   "cell_type": "code",
   "execution_count": 209,
   "id": "2eb46706",
   "metadata": {},
   "outputs": [],
   "source": [
    "class Pawn(Piece):\n",
    "    def __init__(self,pos,black=False):\n",
    "        Piece.__init__(self,pos,black)\n",
    "    def __repr__(self):\n",
    "        if self.black:\n",
    "            return 'p'\n",
    "        return 'P'"
   ]
  },
  {
   "cell_type": "code",
   "execution_count": 210,
   "id": "c9dedef3",
   "metadata": {},
   "outputs": [],
   "source": [
    "class Knight(Piece):\n",
    "    def __init__(self,pos,black=False):\n",
    "        Piece.__init__(self,pos,black)\n",
    "    def __repr__(self):\n",
    "        if self.black:\n",
    "            return 'n'\n",
    "        return 'N'"
   ]
  },
  {
   "cell_type": "code",
   "execution_count": 211,
   "id": "058eb998",
   "metadata": {},
   "outputs": [],
   "source": [
    "class Bishop(Piece):\n",
    "    def __init__(self,pos,black=False):\n",
    "        Piece.__init__(self,pos,black)\n",
    "    def __repr__(self):\n",
    "        if self.black:\n",
    "            return 'b'\n",
    "        return 'B'"
   ]
  },
  {
   "cell_type": "code",
   "execution_count": 212,
   "id": "d8f11a36",
   "metadata": {},
   "outputs": [],
   "source": [
    "class Rook(Piece):\n",
    "    def __init__(self,pos,black=False):\n",
    "        Piece.__init__(self,pos,black)\n",
    "    def __repr__(self):\n",
    "        if self.black:\n",
    "            return 'r'\n",
    "        return 'R'"
   ]
  },
  {
   "cell_type": "code",
   "execution_count": 213,
   "id": "85cf358d",
   "metadata": {},
   "outputs": [],
   "source": [
    "class King(Piece):\n",
    "    def __init__(self,pos,black=False):\n",
    "        Piece.__init__(self,pos,black)\n",
    "    def __repr__(self):\n",
    "        if self.black:\n",
    "            return 'k'\n",
    "        return 'K'"
   ]
  },
  {
   "cell_type": "code",
   "execution_count": 214,
   "id": "bf5d180b",
   "metadata": {},
   "outputs": [],
   "source": [
    "class Queen(Piece):\n",
    "    def __init__(self,pos,black=False):\n",
    "        Piece.__init__(self,pos,black)\n",
    "    def __repr__(self):\n",
    "        if self.black:\n",
    "            return 'q'\n",
    "        return 'Q'"
   ]
  },
  {
   "cell_type": "code",
   "execution_count": null,
   "id": "0b0f2251",
   "metadata": {},
   "outputs": [],
   "source": []
  }
 ],
 "metadata": {
  "kernelspec": {
   "display_name": "Python 3 (ipykernel)",
   "language": "python",
   "name": "python3"
  },
  "language_info": {
   "codemirror_mode": {
    "name": "ipython",
    "version": 3
   },
   "file_extension": ".py",
   "mimetype": "text/x-python",
   "name": "python",
   "nbconvert_exporter": "python",
   "pygments_lexer": "ipython3",
   "version": "3.8.10"
  }
 },
 "nbformat": 4,
 "nbformat_minor": 5
}
